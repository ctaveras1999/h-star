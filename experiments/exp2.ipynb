{
 "cells": [
  {
   "cell_type": "code",
   "execution_count": 8,
   "metadata": {},
   "outputs": [],
   "source": [
    "import sys\n",
    "sys.path.insert(0, '../util')\n",
    "sys.path.insert(0, '../')\n",
    "import matplotlib.pyplot as plt\n",
    "from sc import *\n",
    "from plot import *\n",
    "from tqdm import tqdm\n",
    "from alg import hstar, k_rollout, bhattacharya\n",
    "from pqdict import pqdict\n",
    "import numpy as np\n",
    "from tqdm import tqdm\n",
    "from multiprocessing import Pool, cpu_count"
   ]
  },
  {
   "cell_type": "markdown",
   "metadata": {},
   "source": [
    "# make scs"
   ]
  },
  {
   "cell_type": "code",
   "execution_count": 2,
   "metadata": {},
   "outputs": [],
   "source": [
    "def generate_hole_sc(num_holes, hole_radius, border_eps, prox_eps, seed=1, max_iter = 1000):\n",
    "    num_side = 17\n",
    "    top, left, height, width = 1, -1, 2, 2\n",
    "\n",
    "    # Initialize Simplicial Complex (SC)\n",
    "    SC = SimplicialComplex(num_side, False, False, True)\n",
    "\n",
    "    rng = np.random.Generator(np.random.PCG64(seed))\n",
    "    centers = []\n",
    "    bound = 1 - hole_radius - border_eps\n",
    "    for k in range(num_holes):\n",
    "        found_one, i = False, -1\n",
    "        while (not found_one) and (i < max_iter):\n",
    "            if i == max_iter:\n",
    "                print(f\"Max iter reached with {k} holes added. Change hole params!!\")\n",
    "                break\n",
    "            i += 1\n",
    "            x = np.round(rng.uniform(-bound, bound, 2), 1)\n",
    "\n",
    "            if k == 0:\n",
    "                centers.append(x)\n",
    "                break\n",
    "            \n",
    "            too_close = False\n",
    "            for y in centers:\n",
    "                center_dist = np.linalg.norm(x-y, ord=np.inf)\n",
    "                if (center_dist < hole_radius + prox_eps):\n",
    "                    too_close = True\n",
    "            if not too_close:\n",
    "                centers.append(x)\n",
    "                found_one = True\n",
    "\n",
    "    centers = np.array(centers)\n",
    "    centers -= np.mean(centers, axis=0)\n",
    "\n",
    "    SC.make_holes(centers, hole_radius)\n",
    "\n",
    "    return SC, centers"
   ]
  },
  {
   "cell_type": "code",
   "execution_count": 3,
   "metadata": {},
   "outputs": [],
   "source": [
    "seed, hole_radius, border_eps, prox_eps = 12, 0.12, 0.12, 0.3\n",
    "_, hole_locs_i = generate_hole_sc(9, hole_radius, border_eps, prox_eps, seed, 2000)\n",
    "hole_locs = np.vstack([hole_locs_i, [-0.4, 0]])\n",
    "\n",
    "sorted_idx = np.argsort(np.linalg.norm(hole_locs, 2, 1))\n",
    "hole_locs = hole_locs[sorted_idx]\n",
    "\n",
    "folder = \"exp2_data\""
   ]
  },
  {
   "cell_type": "code",
   "execution_count": null,
   "metadata": {},
   "outputs": [],
   "source": [
    "SCs = []\n",
    "ref_outputs = []\n",
    "coords = np.array([(-1,-1), (1, -1), (1, -0.7), (-1,0.7), (0,1), (1,1)])\n",
    "\n",
    "for i in range(0, 10):\n",
    "    num_side = 20\n",
    "    SC_i = SimplicialComplex(num_side, False, False, True)\n",
    "    all_faces = np.arange(SC_i.face_vec.shape[0])\n",
    "    faces_to_add = {2:set(all_faces)}\n",
    "    SC_i.add_simplices(faces_to_add)\n",
    "    SC_i.make_holes(hole_locs[:i+1,:], hole_radius)\n",
    "    ref_out = path_from_coords(SC_i, coords)\n",
    "    SCs.append(SC_i)\n",
    "    ref_outputs.append(ref_out)"
   ]
  },
  {
   "cell_type": "code",
   "execution_count": null,
   "metadata": {},
   "outputs": [],
   "source": [
    "# for i, x in enumerate(SCs):\n",
    "#     plot_path(x, ref_outputs[i], 'red', '')"
   ]
  },
  {
   "cell_type": "code",
   "execution_count": null,
   "metadata": {},
   "outputs": [],
   "source": [
    "alphas = np.linspace(0, 3, 20)\n",
    "np.savez(f\"../{folder}/setup\", alphas=alphas, SCs=SCs, ref_outputs=ref_outputs, hole_locs=hole_locs)"
   ]
  },
  {
   "cell_type": "markdown",
   "metadata": {},
   "source": [
    "# Get data"
   ]
  },
  {
   "cell_type": "code",
   "execution_count": 9,
   "metadata": {},
   "outputs": [],
   "source": [
    "folder = \"../exp2_data\"\n",
    "results_dict = np.load(f\"{folder}/setup.npz\", allow_pickle=True)\n",
    "alphas, SCs, ref_outputs, hole_locs = [results_dict[x] for x in results_dict.keys()]"
   ]
  },
  {
   "cell_type": "code",
   "execution_count": 10,
   "metadata": {},
   "outputs": [],
   "source": [
    "eps = 1e-4\n",
    "inputs1 = [(x[0], x[1], x[2], alphas, 0, False, eps, folder) for x in zip(range(len(SCs)), SCs, ref_outputs)]\n",
    "inputs2 = [(x[0], x[1], x[2], alphas, 1, False, eps, folder) for x in zip(range(len(SCs)), SCs, ref_outputs)]\n",
    "inputs3 = [(x[0], x[1], x[2], alphas, 1, True,  eps, folder) for x in zip(range(len(SCs)), SCs, ref_outputs)]"
   ]
  },
  {
   "cell_type": "code",
   "execution_count": 11,
   "metadata": {},
   "outputs": [],
   "source": [
    "from wrapper import exp2_wrapper as wrap"
   ]
  },
  {
   "cell_type": "code",
   "execution_count": null,
   "metadata": {},
   "outputs": [],
   "source": [
    "# # Base heuristic \n",
    "# pool = Pool(4)\n",
    "# res = pool.map_async(wrap, inputs1).get()\n",
    "# pool.terminate()"
   ]
  },
  {
   "cell_type": "code",
   "execution_count": null,
   "metadata": {},
   "outputs": [],
   "source": [
    "# One step lookahead no pruning\n",
    "pool = Pool(4)\n",
    "res = pool.map_async(wrap, inputs2).get()\n",
    "pool.terminate()"
   ]
  },
  {
   "cell_type": "code",
   "execution_count": null,
   "metadata": {},
   "outputs": [],
   "source": [
    "# One step lookahead w/ pruning\n",
    "pool = Pool(4)\n",
    "res = pool.map_async(wrap, inputs2).get()\n",
    "pool.terminate()"
   ]
  },
  {
   "cell_type": "code",
   "execution_count": 12,
   "metadata": {},
   "outputs": [
    {
     "name": "stderr",
     "output_type": "stream",
     "text": [
      "10it [00:00, 22882.18it/s]\n"
     ]
    }
   ],
   "source": [
    "from wrapper import bhattacharya_wrapper as bhat_wrap\n",
    "\n",
    "bhat_inputs = []\n",
    "for i, (SC, ref_path, locs) in tqdm(enumerate(zip(SCs, ref_outputs, hole_locs))):\n",
    "    start, end = ref_path[0], ref_path[-1]\n",
    "    bhat_inputs.append([SC, ref_path, start, end, 1e-7, True, i, folder])"
   ]
  },
  {
   "cell_type": "code",
   "execution_count": 13,
   "metadata": {},
   "outputs": [
    {
     "name": "stderr",
     "output_type": "stream",
     "text": [
      "/Users/ctaveras/opt/anaconda3/envs/ot-simp/lib/python3.9/site-packages/numpy/lib/npyio.py:719: VisibleDeprecationWarning: Creating an ndarray from ragged nested sequences (which is a list-or-tuple of lists-or-tuples-or ndarrays with different lengths or shapes) is deprecated. If you meant to do this, you must specify 'dtype=object' when creating the ndarray.\n",
      "  val = np.asanyarray(val)\n",
      "/Users/ctaveras/opt/anaconda3/envs/ot-simp/lib/python3.9/site-packages/numpy/lib/npyio.py:719: VisibleDeprecationWarning: Creating an ndarray from ragged nested sequences (which is a list-or-tuple of lists-or-tuples-or ndarrays with different lengths or shapes) is deprecated. If you meant to do this, you must specify 'dtype=object' when creating the ndarray.\n",
      "  val = np.asanyarray(val)\n",
      "/Users/ctaveras/opt/anaconda3/envs/ot-simp/lib/python3.9/site-packages/numpy/lib/npyio.py:719: VisibleDeprecationWarning: Creating an ndarray from ragged nested sequences (which is a list-or-tuple of lists-or-tuples-or ndarrays with different lengths or shapes) is deprecated. If you meant to do this, you must specify 'dtype=object' when creating the ndarray.\n",
      "  val = np.asanyarray(val)\n",
      "/Users/ctaveras/opt/anaconda3/envs/ot-simp/lib/python3.9/site-packages/numpy/lib/npyio.py:719: VisibleDeprecationWarning: Creating an ndarray from ragged nested sequences (which is a list-or-tuple of lists-or-tuples-or ndarrays with different lengths or shapes) is deprecated. If you meant to do this, you must specify 'dtype=object' when creating the ndarray.\n",
      "  val = np.asanyarray(val)\n"
     ]
    }
   ],
   "source": [
    "pool = Pool(processes=4)\n",
    "data_bhat = pool.starmap(bhat_wrap, bhat_inputs)\n",
    "pool.terminate()"
   ]
  },
  {
   "cell_type": "code",
   "execution_count": null,
   "metadata": {},
   "outputs": [],
   "source": []
  }
 ],
 "metadata": {
  "kernelspec": {
   "display_name": "Python 3",
   "language": "python",
   "name": "python3"
  },
  "language_info": {
   "codemirror_mode": {
    "name": "ipython",
    "version": 3
   },
   "file_extension": ".py",
   "mimetype": "text/x-python",
   "name": "python",
   "nbconvert_exporter": "python",
   "pygments_lexer": "ipython3",
   "version": "3.9.16"
  }
 },
 "nbformat": 4,
 "nbformat_minor": 2
}
